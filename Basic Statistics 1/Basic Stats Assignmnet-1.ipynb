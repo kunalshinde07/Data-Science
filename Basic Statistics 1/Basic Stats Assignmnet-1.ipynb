{
 "cells": [
  {
   "cell_type": "code",
   "execution_count": 2,
   "id": "52c39250",
   "metadata": {},
   "outputs": [],
   "source": [
    "import pandas as pd\n",
    "import matplotlib.pyplot as plt\n",
    "import seaborn as sns"
   ]
  },
  {
   "cell_type": "code",
   "execution_count": 3,
   "id": "dbde5f37",
   "metadata": {},
   "outputs": [],
   "source": [
    "from scipy import stats\n",
    "import numpy as np"
   ]
  },
  {
   "cell_type": "markdown",
   "id": "a696489a",
   "metadata": {},
   "source": [
    "## Question 7 "
   ]
  },
  {
   "cell_type": "code",
   "execution_count": 4,
   "id": "0d2d9bd5",
   "metadata": {},
   "outputs": [
    {
     "data": {
      "text/html": [
       "<div>\n",
       "<style scoped>\n",
       "    .dataframe tbody tr th:only-of-type {\n",
       "        vertical-align: middle;\n",
       "    }\n",
       "\n",
       "    .dataframe tbody tr th {\n",
       "        vertical-align: top;\n",
       "    }\n",
       "\n",
       "    .dataframe thead th {\n",
       "        text-align: right;\n",
       "    }\n",
       "</style>\n",
       "<table border=\"1\" class=\"dataframe\">\n",
       "  <thead>\n",
       "    <tr style=\"text-align: right;\">\n",
       "      <th></th>\n",
       "      <th>Unnamed: 0</th>\n",
       "      <th>Points</th>\n",
       "      <th>Score</th>\n",
       "      <th>Weigh</th>\n",
       "    </tr>\n",
       "  </thead>\n",
       "  <tbody>\n",
       "    <tr>\n",
       "      <th>0</th>\n",
       "      <td>Mazda RX4</td>\n",
       "      <td>3.90</td>\n",
       "      <td>2.620</td>\n",
       "      <td>16.46</td>\n",
       "    </tr>\n",
       "    <tr>\n",
       "      <th>1</th>\n",
       "      <td>Mazda RX4 Wag</td>\n",
       "      <td>3.90</td>\n",
       "      <td>2.875</td>\n",
       "      <td>17.02</td>\n",
       "    </tr>\n",
       "    <tr>\n",
       "      <th>2</th>\n",
       "      <td>Datsun 710</td>\n",
       "      <td>3.85</td>\n",
       "      <td>2.320</td>\n",
       "      <td>18.61</td>\n",
       "    </tr>\n",
       "    <tr>\n",
       "      <th>3</th>\n",
       "      <td>Hornet 4 Drive</td>\n",
       "      <td>3.08</td>\n",
       "      <td>3.215</td>\n",
       "      <td>19.44</td>\n",
       "    </tr>\n",
       "    <tr>\n",
       "      <th>4</th>\n",
       "      <td>Hornet Sportabout</td>\n",
       "      <td>3.15</td>\n",
       "      <td>3.440</td>\n",
       "      <td>17.02</td>\n",
       "    </tr>\n",
       "  </tbody>\n",
       "</table>\n",
       "</div>"
      ],
      "text/plain": [
       "          Unnamed: 0  Points  Score  Weigh\n",
       "0          Mazda RX4    3.90  2.620  16.46\n",
       "1      Mazda RX4 Wag    3.90  2.875  17.02\n",
       "2         Datsun 710    3.85  2.320  18.61\n",
       "3     Hornet 4 Drive    3.08  3.215  19.44\n",
       "4  Hornet Sportabout    3.15  3.440  17.02"
      ]
     },
     "execution_count": 4,
     "metadata": {},
     "output_type": "execute_result"
    }
   ],
   "source": [
    "df = pd.read_csv(\"E:\\ExcelR\\Data Science\\Assignment\\Stats-1\\Q7.csv\")\n",
    "df.head()"
   ]
  },
  {
   "cell_type": "markdown",
   "id": "be2b04c4",
   "metadata": {},
   "source": [
    "### Mean "
   ]
  },
  {
   "cell_type": "code",
   "execution_count": 5,
   "id": "6a81d7ea",
   "metadata": {},
   "outputs": [
    {
     "data": {
      "text/plain": [
       "3.5965625"
      ]
     },
     "execution_count": 5,
     "metadata": {},
     "output_type": "execute_result"
    }
   ],
   "source": [
    "df[\"Points\"].mean()"
   ]
  },
  {
   "cell_type": "code",
   "execution_count": 6,
   "id": "18b4ba1f",
   "metadata": {},
   "outputs": [
    {
     "data": {
      "text/plain": [
       "3.2172500000000004"
      ]
     },
     "execution_count": 6,
     "metadata": {},
     "output_type": "execute_result"
    }
   ],
   "source": [
    "df[\"Score\"].mean()"
   ]
  },
  {
   "cell_type": "code",
   "execution_count": 7,
   "id": "3d9e0006",
   "metadata": {},
   "outputs": [
    {
     "data": {
      "text/plain": [
       "17.848750000000003"
      ]
     },
     "execution_count": 7,
     "metadata": {},
     "output_type": "execute_result"
    }
   ],
   "source": [
    "df[\"Weigh\"].mean()"
   ]
  },
  {
   "cell_type": "code",
   "execution_count": 8,
   "id": "6f96ea9a",
   "metadata": {},
   "outputs": [],
   "source": [
    "# As we can see below Median values of these columns are not to much greater that mean, so as a conclusion we can say that \n",
    "# there are no outlier present in our dataset. As means are highly affected by outliers."
   ]
  },
  {
   "cell_type": "markdown",
   "id": "1b63ae85",
   "metadata": {},
   "source": [
    "### Median "
   ]
  },
  {
   "cell_type": "code",
   "execution_count": 9,
   "id": "128f9b88",
   "metadata": {},
   "outputs": [
    {
     "data": {
      "text/plain": [
       "3.6950000000000003"
      ]
     },
     "execution_count": 9,
     "metadata": {},
     "output_type": "execute_result"
    }
   ],
   "source": [
    "df[\"Points\"].median()"
   ]
  },
  {
   "cell_type": "code",
   "execution_count": 10,
   "id": "54a465a8",
   "metadata": {},
   "outputs": [
    {
     "data": {
      "text/plain": [
       "3.325"
      ]
     },
     "execution_count": 10,
     "metadata": {},
     "output_type": "execute_result"
    }
   ],
   "source": [
    "df[\"Score\"].median()"
   ]
  },
  {
   "cell_type": "code",
   "execution_count": 11,
   "id": "ffb7d7c2",
   "metadata": {},
   "outputs": [
    {
     "data": {
      "text/plain": [
       "17.71"
      ]
     },
     "execution_count": 11,
     "metadata": {},
     "output_type": "execute_result"
    }
   ],
   "source": [
    "df[\"Weigh\"].median()"
   ]
  },
  {
   "cell_type": "code",
   "execution_count": 12,
   "id": "e14df544",
   "metadata": {},
   "outputs": [],
   "source": [
    "# Medians are not affected by the presence of outliers."
   ]
  },
  {
   "cell_type": "markdown",
   "id": "a10d08c8",
   "metadata": {},
   "source": [
    "### Mode "
   ]
  },
  {
   "cell_type": "code",
   "execution_count": 13,
   "id": "638cd38e",
   "metadata": {},
   "outputs": [],
   "source": [
    "import statistics as st"
   ]
  },
  {
   "cell_type": "code",
   "execution_count": 14,
   "id": "d2e1d0ec",
   "metadata": {
    "scrolled": true
   },
   "outputs": [
    {
     "data": {
      "text/plain": [
       "3.92"
      ]
     },
     "execution_count": 14,
     "metadata": {},
     "output_type": "execute_result"
    }
   ],
   "source": [
    "st.mode(df[\"Points\"]) "
   ]
  },
  {
   "cell_type": "code",
   "execution_count": 15,
   "id": "ad7da44e",
   "metadata": {},
   "outputs": [
    {
     "data": {
      "text/plain": [
       "3.44"
      ]
     },
     "execution_count": 15,
     "metadata": {},
     "output_type": "execute_result"
    }
   ],
   "source": [
    "st.mode(df[\"Score\"]) "
   ]
  },
  {
   "cell_type": "code",
   "execution_count": 16,
   "id": "3ae33e43",
   "metadata": {},
   "outputs": [
    {
     "data": {
      "text/plain": [
       "17.02"
      ]
     },
     "execution_count": 16,
     "metadata": {},
     "output_type": "execute_result"
    }
   ],
   "source": [
    "st.mode(df[\"Weigh\"])"
   ]
  },
  {
   "cell_type": "code",
   "execution_count": 19,
   "id": "f6273dd5",
   "metadata": {},
   "outputs": [],
   "source": [
    "# These values states that most frequent values are 3.92, 3.44, and 17.02 for Points, Score, Weigh respectivly."
   ]
  },
  {
   "cell_type": "markdown",
   "id": "f205cc1b",
   "metadata": {},
   "source": [
    "### Variance "
   ]
  },
  {
   "cell_type": "code",
   "execution_count": 20,
   "id": "bdba817b",
   "metadata": {},
   "outputs": [
    {
     "data": {
      "text/plain": [
       "0.28588135080645166"
      ]
     },
     "execution_count": 20,
     "metadata": {},
     "output_type": "execute_result"
    }
   ],
   "source": [
    "df[\"Points\"].var()"
   ]
  },
  {
   "cell_type": "code",
   "execution_count": 21,
   "id": "f9679082",
   "metadata": {},
   "outputs": [
    {
     "data": {
      "text/plain": [
       "0.9573789677419356"
      ]
     },
     "execution_count": 21,
     "metadata": {},
     "output_type": "execute_result"
    }
   ],
   "source": [
    "df[\"Score\"].var()"
   ]
  },
  {
   "cell_type": "code",
   "execution_count": 22,
   "id": "74028d87",
   "metadata": {},
   "outputs": [
    {
     "data": {
      "text/plain": [
       "3.193166129032258"
      ]
     },
     "execution_count": 22,
     "metadata": {},
     "output_type": "execute_result"
    }
   ],
   "source": [
    "df[\"Weigh\"].var()"
   ]
  },
  {
   "cell_type": "code",
   "execution_count": 24,
   "id": "987253a4",
   "metadata": {},
   "outputs": [],
   "source": [
    "# It tells us the sprede of each data point in that specific column"
   ]
  },
  {
   "cell_type": "markdown",
   "id": "28ee92ba",
   "metadata": {},
   "source": [
    "## Standard Deviation "
   ]
  },
  {
   "cell_type": "code",
   "execution_count": 25,
   "id": "8b49476d",
   "metadata": {},
   "outputs": [
    {
     "data": {
      "text/plain": [
       "0.5346787360709716"
      ]
     },
     "execution_count": 25,
     "metadata": {},
     "output_type": "execute_result"
    }
   ],
   "source": [
    "df[\"Points\"].std()"
   ]
  },
  {
   "cell_type": "code",
   "execution_count": 26,
   "id": "77c1bfc5",
   "metadata": {},
   "outputs": [
    {
     "data": {
      "text/plain": [
       "0.9784574429896967"
      ]
     },
     "execution_count": 26,
     "metadata": {},
     "output_type": "execute_result"
    }
   ],
   "source": [
    "df[\"Score\"].std()"
   ]
  },
  {
   "cell_type": "code",
   "execution_count": 27,
   "id": "377ad630",
   "metadata": {},
   "outputs": [
    {
     "data": {
      "text/plain": [
       "1.7869432360968431"
      ]
     },
     "execution_count": 27,
     "metadata": {},
     "output_type": "execute_result"
    }
   ],
   "source": [
    "df[\"Weigh\"].std()"
   ]
  },
  {
   "cell_type": "code",
   "execution_count": 28,
   "id": "30574ed6",
   "metadata": {},
   "outputs": [],
   "source": [
    "# this also tells us the sprede of each data point in that specific column, but here variance is "
   ]
  },
  {
   "cell_type": "markdown",
   "id": "a3cc425a",
   "metadata": {},
   "source": [
    "### Range "
   ]
  },
  {
   "cell_type": "code",
   "execution_count": 29,
   "id": "784fe8f2",
   "metadata": {},
   "outputs": [],
   "source": [
    "def _range(df):\n",
    "    return max(df) - min(df)"
   ]
  },
  {
   "cell_type": "code",
   "execution_count": 30,
   "id": "a0227315",
   "metadata": {},
   "outputs": [
    {
     "data": {
      "text/plain": [
       "2.17"
      ]
     },
     "execution_count": 30,
     "metadata": {},
     "output_type": "execute_result"
    }
   ],
   "source": [
    "_range(df[\"Points\"])"
   ]
  },
  {
   "cell_type": "code",
   "execution_count": 31,
   "id": "8c09ccb0",
   "metadata": {},
   "outputs": [
    {
     "data": {
      "text/plain": [
       "3.9110000000000005"
      ]
     },
     "execution_count": 31,
     "metadata": {},
     "output_type": "execute_result"
    }
   ],
   "source": [
    "_range(df[\"Score\"])"
   ]
  },
  {
   "cell_type": "code",
   "execution_count": 32,
   "id": "d2f10694",
   "metadata": {},
   "outputs": [
    {
     "data": {
      "text/plain": [
       "8.399999999999999"
      ]
     },
     "execution_count": 32,
     "metadata": {},
     "output_type": "execute_result"
    }
   ],
   "source": [
    "_range(df[\"Weigh\"])"
   ]
  },
  {
   "cell_type": "markdown",
   "id": "69bf4adb",
   "metadata": {},
   "source": [
    "## Question 9_a"
   ]
  },
  {
   "cell_type": "code",
   "execution_count": 34,
   "id": "516c37c9",
   "metadata": {},
   "outputs": [
    {
     "data": {
      "text/html": [
       "<div>\n",
       "<style scoped>\n",
       "    .dataframe tbody tr th:only-of-type {\n",
       "        vertical-align: middle;\n",
       "    }\n",
       "\n",
       "    .dataframe tbody tr th {\n",
       "        vertical-align: top;\n",
       "    }\n",
       "\n",
       "    .dataframe thead th {\n",
       "        text-align: right;\n",
       "    }\n",
       "</style>\n",
       "<table border=\"1\" class=\"dataframe\">\n",
       "  <thead>\n",
       "    <tr style=\"text-align: right;\">\n",
       "      <th></th>\n",
       "      <th>Index</th>\n",
       "      <th>speed</th>\n",
       "      <th>dist</th>\n",
       "    </tr>\n",
       "  </thead>\n",
       "  <tbody>\n",
       "    <tr>\n",
       "      <th>0</th>\n",
       "      <td>1</td>\n",
       "      <td>4</td>\n",
       "      <td>2</td>\n",
       "    </tr>\n",
       "    <tr>\n",
       "      <th>1</th>\n",
       "      <td>2</td>\n",
       "      <td>4</td>\n",
       "      <td>10</td>\n",
       "    </tr>\n",
       "    <tr>\n",
       "      <th>2</th>\n",
       "      <td>3</td>\n",
       "      <td>7</td>\n",
       "      <td>4</td>\n",
       "    </tr>\n",
       "    <tr>\n",
       "      <th>3</th>\n",
       "      <td>4</td>\n",
       "      <td>7</td>\n",
       "      <td>22</td>\n",
       "    </tr>\n",
       "    <tr>\n",
       "      <th>4</th>\n",
       "      <td>5</td>\n",
       "      <td>8</td>\n",
       "      <td>16</td>\n",
       "    </tr>\n",
       "    <tr>\n",
       "      <th>5</th>\n",
       "      <td>6</td>\n",
       "      <td>9</td>\n",
       "      <td>10</td>\n",
       "    </tr>\n",
       "    <tr>\n",
       "      <th>6</th>\n",
       "      <td>7</td>\n",
       "      <td>10</td>\n",
       "      <td>18</td>\n",
       "    </tr>\n",
       "    <tr>\n",
       "      <th>7</th>\n",
       "      <td>8</td>\n",
       "      <td>10</td>\n",
       "      <td>26</td>\n",
       "    </tr>\n",
       "    <tr>\n",
       "      <th>8</th>\n",
       "      <td>9</td>\n",
       "      <td>10</td>\n",
       "      <td>34</td>\n",
       "    </tr>\n",
       "    <tr>\n",
       "      <th>9</th>\n",
       "      <td>10</td>\n",
       "      <td>11</td>\n",
       "      <td>17</td>\n",
       "    </tr>\n",
       "  </tbody>\n",
       "</table>\n",
       "</div>"
      ],
      "text/plain": [
       "   Index  speed  dist\n",
       "0      1      4     2\n",
       "1      2      4    10\n",
       "2      3      7     4\n",
       "3      4      7    22\n",
       "4      5      8    16\n",
       "5      6      9    10\n",
       "6      7     10    18\n",
       "7      8     10    26\n",
       "8      9     10    34\n",
       "9     10     11    17"
      ]
     },
     "execution_count": 34,
     "metadata": {},
     "output_type": "execute_result"
    }
   ],
   "source": [
    "df = pd.read_csv(\"E:\\ExcelR\\Data Science\\Assignment\\Stats-1\\Q9_a.csv\")\n",
    "df.head(10)"
   ]
  },
  {
   "cell_type": "code",
   "execution_count": 35,
   "id": "941deec3",
   "metadata": {},
   "outputs": [
    {
     "data": {
      "text/html": [
       "<div>\n",
       "<style scoped>\n",
       "    .dataframe tbody tr th:only-of-type {\n",
       "        vertical-align: middle;\n",
       "    }\n",
       "\n",
       "    .dataframe tbody tr th {\n",
       "        vertical-align: top;\n",
       "    }\n",
       "\n",
       "    .dataframe thead th {\n",
       "        text-align: right;\n",
       "    }\n",
       "</style>\n",
       "<table border=\"1\" class=\"dataframe\">\n",
       "  <thead>\n",
       "    <tr style=\"text-align: right;\">\n",
       "      <th></th>\n",
       "      <th>speed</th>\n",
       "      <th>dist</th>\n",
       "    </tr>\n",
       "  </thead>\n",
       "  <tbody>\n",
       "    <tr>\n",
       "      <th>0</th>\n",
       "      <td>4</td>\n",
       "      <td>2</td>\n",
       "    </tr>\n",
       "    <tr>\n",
       "      <th>1</th>\n",
       "      <td>4</td>\n",
       "      <td>10</td>\n",
       "    </tr>\n",
       "    <tr>\n",
       "      <th>2</th>\n",
       "      <td>7</td>\n",
       "      <td>4</td>\n",
       "    </tr>\n",
       "    <tr>\n",
       "      <th>3</th>\n",
       "      <td>7</td>\n",
       "      <td>22</td>\n",
       "    </tr>\n",
       "    <tr>\n",
       "      <th>4</th>\n",
       "      <td>8</td>\n",
       "      <td>16</td>\n",
       "    </tr>\n",
       "  </tbody>\n",
       "</table>\n",
       "</div>"
      ],
      "text/plain": [
       "   speed  dist\n",
       "0      4     2\n",
       "1      4    10\n",
       "2      7     4\n",
       "3      7    22\n",
       "4      8    16"
      ]
     },
     "execution_count": 35,
     "metadata": {},
     "output_type": "execute_result"
    }
   ],
   "source": [
    "df1 = df.drop(columns = 'Index', axis = 1)\n",
    "df1.head()"
   ]
  },
  {
   "cell_type": "markdown",
   "id": "ed0f38ec",
   "metadata": {},
   "source": [
    "### skewness "
   ]
  },
  {
   "cell_type": "code",
   "execution_count": 36,
   "id": "29a50faa",
   "metadata": {},
   "outputs": [
    {
     "data": {
      "text/plain": [
       "speed   -0.117510\n",
       "dist     0.806895\n",
       "dtype: float64"
      ]
     },
     "execution_count": 36,
     "metadata": {},
     "output_type": "execute_result"
    }
   ],
   "source": [
    "df1.skew()"
   ]
  },
  {
   "cell_type": "code",
   "execution_count": 37,
   "id": "afcf0cfe",
   "metadata": {},
   "outputs": [],
   "source": [
    "# dist:\n",
    "# Here dist column has 0.806895, that indicates moderate positive skewness. \n",
    "# It shows that the distribution is slightly skewed to the right, with a longer tail on the positive side of the data.\n",
    "\n",
    "# speed:\n",
    "# A skewness value of -0.117510 indicates a slightly negatively skewed distribution.\n",
    "# This means that the distribution has a longer tail on the left side (negative side) and the majority of the data points are concentrated towards the right side (positive side) of the distribution."
   ]
  },
  {
   "cell_type": "code",
   "execution_count": 38,
   "id": "fa9f9bde",
   "metadata": {},
   "outputs": [
    {
     "data": {
      "text/plain": [
       "array([[<Axes: title={'center': 'speed'}>,\n",
       "        <Axes: title={'center': 'dist'}>]], dtype=object)"
      ]
     },
     "execution_count": 38,
     "metadata": {},
     "output_type": "execute_result"
    },
    {
     "data": {
      "image/png": "[encoded data removed]",
      "text/plain": [
       "<Figure size 640x480 with 2 Axes>"
      ]
     },
     "metadata": {},
     "output_type": "display_data"
    }
   ],
   "source": [
    "df1.hist()"
   ]
  },
  {
   "cell_type": "markdown",
   "id": "35f2c0ce",
   "metadata": {},
   "source": [
    "### Kurtosis "
   ]
  },
  {
   "cell_type": "code",
   "execution_count": 39,
   "id": "0b63b103",
   "metadata": {},
   "outputs": [
    {
     "data": {
      "text/plain": [
       "speed   -0.508994\n",
       "dist     0.405053\n",
       "dtype: float64"
      ]
     },
     "execution_count": 39,
     "metadata": {},
     "output_type": "execute_result"
    }
   ],
   "source": [
    "df1.kurtosis()"
   ]
  },
  {
   "cell_type": "code",
   "execution_count": 40,
   "id": "46fd5f27",
   "metadata": {},
   "outputs": [],
   "source": [
    "# speed:\n",
    "# A kurtosis value of -0.508994 indicates that the distribution has thinner tails and a flatter peak compared to a normal distribution (which has a kurtosis value of 0). \n",
    "\n",
    "# dist:\n",
    "# A kurtosis value of 0.405053 suggests that the distribution of data points is relatively close to a normal distribution (bell-shaped curve)."
   ]
  },
  {
   "cell_type": "markdown",
   "id": "838f06df",
   "metadata": {},
   "source": [
    "## Question 9_b"
   ]
  },
  {
   "cell_type": "code",
   "execution_count": 41,
   "id": "51b35ec6",
   "metadata": {},
   "outputs": [
    {
     "data": {
      "text/html": [
       "<div>\n",
       "<style scoped>\n",
       "    .dataframe tbody tr th:only-of-type {\n",
       "        vertical-align: middle;\n",
       "    }\n",
       "\n",
       "    .dataframe tbody tr th {\n",
       "        vertical-align: top;\n",
       "    }\n",
       "\n",
       "    .dataframe thead th {\n",
       "        text-align: right;\n",
       "    }\n",
       "</style>\n",
       "<table border=\"1\" class=\"dataframe\">\n",
       "  <thead>\n",
       "    <tr style=\"text-align: right;\">\n",
       "      <th></th>\n",
       "      <th>Unnamed: 0</th>\n",
       "      <th>SP</th>\n",
       "      <th>WT</th>\n",
       "    </tr>\n",
       "  </thead>\n",
       "  <tbody>\n",
       "    <tr>\n",
       "      <th>0</th>\n",
       "      <td>1</td>\n",
       "      <td>104.185353</td>\n",
       "      <td>28.762059</td>\n",
       "    </tr>\n",
       "    <tr>\n",
       "      <th>1</th>\n",
       "      <td>2</td>\n",
       "      <td>105.461264</td>\n",
       "      <td>30.466833</td>\n",
       "    </tr>\n",
       "    <tr>\n",
       "      <th>2</th>\n",
       "      <td>3</td>\n",
       "      <td>105.461264</td>\n",
       "      <td>30.193597</td>\n",
       "    </tr>\n",
       "    <tr>\n",
       "      <th>3</th>\n",
       "      <td>4</td>\n",
       "      <td>113.461264</td>\n",
       "      <td>30.632114</td>\n",
       "    </tr>\n",
       "    <tr>\n",
       "      <th>4</th>\n",
       "      <td>5</td>\n",
       "      <td>104.461264</td>\n",
       "      <td>29.889149</td>\n",
       "    </tr>\n",
       "    <tr>\n",
       "      <th>5</th>\n",
       "      <td>6</td>\n",
       "      <td>113.185353</td>\n",
       "      <td>29.591768</td>\n",
       "    </tr>\n",
       "    <tr>\n",
       "      <th>6</th>\n",
       "      <td>7</td>\n",
       "      <td>105.461264</td>\n",
       "      <td>30.308480</td>\n",
       "    </tr>\n",
       "    <tr>\n",
       "      <th>7</th>\n",
       "      <td>8</td>\n",
       "      <td>102.598513</td>\n",
       "      <td>15.847758</td>\n",
       "    </tr>\n",
       "    <tr>\n",
       "      <th>8</th>\n",
       "      <td>9</td>\n",
       "      <td>102.598513</td>\n",
       "      <td>16.359484</td>\n",
       "    </tr>\n",
       "    <tr>\n",
       "      <th>9</th>\n",
       "      <td>10</td>\n",
       "      <td>115.645204</td>\n",
       "      <td>30.920154</td>\n",
       "    </tr>\n",
       "  </tbody>\n",
       "</table>\n",
       "</div>"
      ],
      "text/plain": [
       "   Unnamed: 0          SP         WT\n",
       "0           1  104.185353  28.762059\n",
       "1           2  105.461264  30.466833\n",
       "2           3  105.461264  30.193597\n",
       "3           4  113.461264  30.632114\n",
       "4           5  104.461264  29.889149\n",
       "5           6  113.185353  29.591768\n",
       "6           7  105.461264  30.308480\n",
       "7           8  102.598513  15.847758\n",
       "8           9  102.598513  16.359484\n",
       "9          10  115.645204  30.920154"
      ]
     },
     "execution_count": 41,
     "metadata": {},
     "output_type": "execute_result"
    }
   ],
   "source": [
    "df = pd.read_csv(\"E:\\ExcelR\\Data Science\\Assignment\\Stats-1\\Q9_b.csv\")\n",
    "df.head(10)"
   ]
  },
  {
   "cell_type": "code",
   "execution_count": 42,
   "id": "ab87d076",
   "metadata": {},
   "outputs": [],
   "source": [
    "df1 = df.drop(columns = \"Unnamed: 0\")"
   ]
  },
  {
   "cell_type": "code",
   "execution_count": 43,
   "id": "07fa749b",
   "metadata": {},
   "outputs": [
    {
     "data": {
      "text/html": [
       "<div>\n",
       "<style scoped>\n",
       "    .dataframe tbody tr th:only-of-type {\n",
       "        vertical-align: middle;\n",
       "    }\n",
       "\n",
       "    .dataframe tbody tr th {\n",
       "        vertical-align: top;\n",
       "    }\n",
       "\n",
       "    .dataframe thead th {\n",
       "        text-align: right;\n",
       "    }\n",
       "</style>\n",
       "<table border=\"1\" class=\"dataframe\">\n",
       "  <thead>\n",
       "    <tr style=\"text-align: right;\">\n",
       "      <th></th>\n",
       "      <th>SP</th>\n",
       "      <th>WT</th>\n",
       "    </tr>\n",
       "  </thead>\n",
       "  <tbody>\n",
       "    <tr>\n",
       "      <th>0</th>\n",
       "      <td>104.185353</td>\n",
       "      <td>28.762059</td>\n",
       "    </tr>\n",
       "    <tr>\n",
       "      <th>1</th>\n",
       "      <td>105.461264</td>\n",
       "      <td>30.466833</td>\n",
       "    </tr>\n",
       "    <tr>\n",
       "      <th>2</th>\n",
       "      <td>105.461264</td>\n",
       "      <td>30.193597</td>\n",
       "    </tr>\n",
       "    <tr>\n",
       "      <th>3</th>\n",
       "      <td>113.461264</td>\n",
       "      <td>30.632114</td>\n",
       "    </tr>\n",
       "    <tr>\n",
       "      <th>4</th>\n",
       "      <td>104.461264</td>\n",
       "      <td>29.889149</td>\n",
       "    </tr>\n",
       "  </tbody>\n",
       "</table>\n",
       "</div>"
      ],
      "text/plain": [
       "           SP         WT\n",
       "0  104.185353  28.762059\n",
       "1  105.461264  30.466833\n",
       "2  105.461264  30.193597\n",
       "3  113.461264  30.632114\n",
       "4  104.461264  29.889149"
      ]
     },
     "execution_count": 43,
     "metadata": {},
     "output_type": "execute_result"
    }
   ],
   "source": [
    "df1.head()"
   ]
  },
  {
   "cell_type": "markdown",
   "id": "c4e4db8e",
   "metadata": {},
   "source": [
    "### Skewness"
   ]
  },
  {
   "cell_type": "code",
   "execution_count": 44,
   "id": "840f7743",
   "metadata": {},
   "outputs": [
    {
     "data": {
      "text/plain": [
       "SP    1.611450\n",
       "WT   -0.614753\n",
       "dtype: float64"
      ]
     },
     "execution_count": 44,
     "metadata": {},
     "output_type": "execute_result"
    }
   ],
   "source": [
    "df1.skew()"
   ]
  },
  {
   "cell_type": "code",
   "execution_count": 46,
   "id": "ba813d38",
   "metadata": {},
   "outputs": [],
   "source": [
    "# SP:\n",
    "# A skewness value of 1.611450 indicates that the data distribution is positively skewed, meaning that the tail on the right side of the distribution is longer.\n",
    "\n",
    "# WT:\n",
    "# A skewness value of -0.614753 indicates that the data distribution is negatively skewed, meaning the tail on the left side is longer or stretched out.\n",
    "# The majority of the data points are concentrated on the right side of the distribution, with some outliers on the left side."
   ]
  },
  {
   "cell_type": "code",
   "execution_count": 47,
   "id": "0f1081e4",
   "metadata": {},
   "outputs": [
    {
     "data": {
      "text/plain": [
       "array([[<Axes: title={'center': 'SP'}>, <Axes: title={'center': 'WT'}>]],\n",
       "      dtype=object)"
      ]
     },
     "execution_count": 47,
     "metadata": {},
     "output_type": "execute_result"
    },
    {
     "data": {
      "image/png": "[encoded data removed]",
      "text/plain": [
       "<Figure size 640x480 with 2 Axes>"
      ]
     },
     "metadata": {},
     "output_type": "display_data"
    }
   ],
   "source": [
    "df1.hist()"
   ]
  },
  {
   "cell_type": "markdown",
   "id": "236557de",
   "metadata": {},
   "source": [
    "### Kurtosis "
   ]
  },
  {
   "cell_type": "code",
   "execution_count": 48,
   "id": "a1f74ccb",
   "metadata": {},
   "outputs": [
    {
     "data": {
      "text/plain": [
       "SP    2.977329\n",
       "WT    0.950291\n",
       "dtype: float64"
      ]
     },
     "execution_count": 48,
     "metadata": {},
     "output_type": "execute_result"
    }
   ],
   "source": [
    "df1.kurtosis()"
   ]
  },
  {
   "cell_type": "code",
   "execution_count": 49,
   "id": "0075c87e",
   "metadata": {},
   "outputs": [],
   "source": [
    "# SP:\n",
    "# A kurtosis value of 2.977329 indicates that it has heavier tails and a sharper peak compared to a normal distribution. \n",
    "\n",
    "# WT:\n",
    "# A kurtosis value of 0.950291 indicates that it has thinner tails and is less peaked compared to a normal distribution."
   ]
  },
  {
   "cell_type": "markdown",
   "id": "08314149",
   "metadata": {},
   "source": [
    "## Question 11 "
   ]
  },
  {
   "cell_type": "markdown",
   "id": "3389f7d6",
   "metadata": {},
   "source": [
    " given: \n",
    "n = 2000,\n",
    "N = 3000000,\n",
    "sample mean = 200,\n",
    "sample SD = 30."
   ]
  },
  {
   "cell_type": "code",
   "execution_count": 50,
   "id": "ef326025",
   "metadata": {},
   "outputs": [
    {
     "data": {
      "text/plain": [
       "(198.7376089443071, 201.2623910556929)"
      ]
     },
     "execution_count": 50,
     "metadata": {},
     "output_type": "execute_result"
    }
   ],
   "source": [
    "# For 94% Confidence Interval:\n",
    "stats.t.interval(0.94, df = 1999, loc = 200, scale = 30/np.sqrt(2000))"
   ]
  },
  {
   "cell_type": "code",
   "execution_count": 51,
   "id": "22377dcb",
   "metadata": {},
   "outputs": [
    {
     "data": {
      "text/plain": [
       "(198.6214037429732, 201.3785962570268)"
      ]
     },
     "execution_count": 51,
     "metadata": {},
     "output_type": "execute_result"
    }
   ],
   "source": [
    "# For 96% Confidence Interval:\n",
    "stats.t.interval(0.96, df = 1999, loc = 200, scale = 30/np.sqrt(2000))"
   ]
  },
  {
   "cell_type": "code",
   "execution_count": 52,
   "id": "32b46d49",
   "metadata": {},
   "outputs": [
    {
     "data": {
      "text/plain": [
       "(198.4381860483216, 201.5618139516784)"
      ]
     },
     "execution_count": 52,
     "metadata": {},
     "output_type": "execute_result"
    }
   ],
   "source": [
    "# For 98% Confidence Interval:\n",
    "stats.t.interval(0.98, df = 1999, loc = 200, scale = 30/np.sqrt(2000))"
   ]
  },
  {
   "cell_type": "markdown",
   "id": "8eff40c7",
   "metadata": {},
   "source": [
    "## Question 12"
   ]
  },
  {
   "cell_type": "code",
   "execution_count": 53,
   "id": "6d83aa56",
   "metadata": {},
   "outputs": [],
   "source": [
    "marks =np.array([34,36,36,38,38,39,39,40,40,41,41,41,41,42,42,45,49,56])"
   ]
  },
  {
   "cell_type": "code",
   "execution_count": 54,
   "id": "e190e210",
   "metadata": {},
   "outputs": [
    {
     "data": {
      "text/plain": [
       "41.0"
      ]
     },
     "execution_count": 54,
     "metadata": {},
     "output_type": "execute_result"
    }
   ],
   "source": [
    "np.mean(marks)"
   ]
  },
  {
   "cell_type": "code",
   "execution_count": 55,
   "id": "a316d232",
   "metadata": {},
   "outputs": [
    {
     "data": {
      "text/plain": [
       "40.5"
      ]
     },
     "execution_count": 55,
     "metadata": {},
     "output_type": "execute_result"
    }
   ],
   "source": [
    "np.median(marks)"
   ]
  },
  {
   "cell_type": "code",
   "execution_count": 56,
   "id": "9076802f",
   "metadata": {},
   "outputs": [
    {
     "data": {
      "text/plain": [
       "24.11111111111111"
      ]
     },
     "execution_count": 56,
     "metadata": {},
     "output_type": "execute_result"
    }
   ],
   "source": [
    "np.var(marks)"
   ]
  },
  {
   "cell_type": "code",
   "execution_count": 57,
   "id": "9e993671",
   "metadata": {},
   "outputs": [
    {
     "data": {
      "text/plain": [
       "4.910306620885412"
      ]
     },
     "execution_count": 57,
     "metadata": {},
     "output_type": "execute_result"
    }
   ],
   "source": [
    "np.std(marks)"
   ]
  },
  {
   "cell_type": "code",
   "execution_count": 58,
   "id": "15bac71c",
   "metadata": {},
   "outputs": [],
   "source": [
    "# As we can see mean is greater that median this means outliers may be present at upper extrem,\n",
    "# and this data has slightly positive skewness "
   ]
  },
  {
   "cell_type": "markdown",
   "id": "86394ff3",
   "metadata": {},
   "source": [
    "## Question 20 "
   ]
  },
  {
   "cell_type": "code",
   "execution_count": 60,
   "id": "274d89b1",
   "metadata": {},
   "outputs": [
    {
     "data": {
      "text/html": [
       "<div>\n",
       "<style scoped>\n",
       "    .dataframe tbody tr th:only-of-type {\n",
       "        vertical-align: middle;\n",
       "    }\n",
       "\n",
       "    .dataframe tbody tr th {\n",
       "        vertical-align: top;\n",
       "    }\n",
       "\n",
       "    .dataframe thead th {\n",
       "        text-align: right;\n",
       "    }\n",
       "</style>\n",
       "<table border=\"1\" class=\"dataframe\">\n",
       "  <thead>\n",
       "    <tr style=\"text-align: right;\">\n",
       "      <th></th>\n",
       "      <th>HP</th>\n",
       "      <th>MPG</th>\n",
       "      <th>VOL</th>\n",
       "      <th>SP</th>\n",
       "      <th>WT</th>\n",
       "    </tr>\n",
       "  </thead>\n",
       "  <tbody>\n",
       "    <tr>\n",
       "      <th>0</th>\n",
       "      <td>49</td>\n",
       "      <td>53.700681</td>\n",
       "      <td>89</td>\n",
       "      <td>104.185353</td>\n",
       "      <td>28.762059</td>\n",
       "    </tr>\n",
       "    <tr>\n",
       "      <th>1</th>\n",
       "      <td>55</td>\n",
       "      <td>50.013401</td>\n",
       "      <td>92</td>\n",
       "      <td>105.461264</td>\n",
       "      <td>30.466833</td>\n",
       "    </tr>\n",
       "    <tr>\n",
       "      <th>2</th>\n",
       "      <td>55</td>\n",
       "      <td>50.013401</td>\n",
       "      <td>92</td>\n",
       "      <td>105.461264</td>\n",
       "      <td>30.193597</td>\n",
       "    </tr>\n",
       "    <tr>\n",
       "      <th>3</th>\n",
       "      <td>70</td>\n",
       "      <td>45.696322</td>\n",
       "      <td>92</td>\n",
       "      <td>113.461264</td>\n",
       "      <td>30.632114</td>\n",
       "    </tr>\n",
       "    <tr>\n",
       "      <th>4</th>\n",
       "      <td>53</td>\n",
       "      <td>50.504232</td>\n",
       "      <td>92</td>\n",
       "      <td>104.461264</td>\n",
       "      <td>29.889149</td>\n",
       "    </tr>\n",
       "    <tr>\n",
       "      <th>...</th>\n",
       "      <td>...</td>\n",
       "      <td>...</td>\n",
       "      <td>...</td>\n",
       "      <td>...</td>\n",
       "      <td>...</td>\n",
       "    </tr>\n",
       "    <tr>\n",
       "      <th>76</th>\n",
       "      <td>322</td>\n",
       "      <td>36.900000</td>\n",
       "      <td>50</td>\n",
       "      <td>169.598513</td>\n",
       "      <td>16.132947</td>\n",
       "    </tr>\n",
       "    <tr>\n",
       "      <th>77</th>\n",
       "      <td>238</td>\n",
       "      <td>19.197888</td>\n",
       "      <td>115</td>\n",
       "      <td>150.576579</td>\n",
       "      <td>37.923113</td>\n",
       "    </tr>\n",
       "    <tr>\n",
       "      <th>78</th>\n",
       "      <td>263</td>\n",
       "      <td>34.000000</td>\n",
       "      <td>50</td>\n",
       "      <td>151.598513</td>\n",
       "      <td>15.769625</td>\n",
       "    </tr>\n",
       "    <tr>\n",
       "      <th>79</th>\n",
       "      <td>295</td>\n",
       "      <td>19.833733</td>\n",
       "      <td>119</td>\n",
       "      <td>167.944460</td>\n",
       "      <td>39.423099</td>\n",
       "    </tr>\n",
       "    <tr>\n",
       "      <th>80</th>\n",
       "      <td>236</td>\n",
       "      <td>12.101263</td>\n",
       "      <td>107</td>\n",
       "      <td>139.840817</td>\n",
       "      <td>34.948615</td>\n",
       "    </tr>\n",
       "  </tbody>\n",
       "</table>\n",
       "<p>81 rows × 5 columns</p>\n",
       "</div>"
      ],
      "text/plain": [
       "     HP        MPG  VOL          SP         WT\n",
       "0    49  53.700681   89  104.185353  28.762059\n",
       "1    55  50.013401   92  105.461264  30.466833\n",
       "2    55  50.013401   92  105.461264  30.193597\n",
       "3    70  45.696322   92  113.461264  30.632114\n",
       "4    53  50.504232   92  104.461264  29.889149\n",
       "..  ...        ...  ...         ...        ...\n",
       "76  322  36.900000   50  169.598513  16.132947\n",
       "77  238  19.197888  115  150.576579  37.923113\n",
       "78  263  34.000000   50  151.598513  15.769625\n",
       "79  295  19.833733  119  167.944460  39.423099\n",
       "80  236  12.101263  107  139.840817  34.948615\n",
       "\n",
       "[81 rows x 5 columns]"
      ]
     },
     "execution_count": 60,
     "metadata": {},
     "output_type": "execute_result"
    }
   ],
   "source": [
    "df = pd.read_csv(r\"E:\\ExcelR\\Data Science\\Assignment\\Stats-1\\Cars.csv\")\n",
    "df"
   ]
  },
  {
   "cell_type": "code",
   "execution_count": 61,
   "id": "d34e56c5",
   "metadata": {},
   "outputs": [],
   "source": [
    "mean = df[\"MPG\"].mean()\n",
    "sd = df[\"MPG\"].std()"
   ]
  },
  {
   "cell_type": "code",
   "execution_count": 62,
   "id": "cd48c331",
   "metadata": {},
   "outputs": [
    {
     "name": "stderr",
     "output_type": "stream",
     "text": [
      "C:\\Users\\abhic\\AppData\\Local\\Temp\\ipykernel_5244\\376382855.py:1: UserWarning: \n",
      "\n",
      "`distplot` is a deprecated function and will be removed in seaborn v0.14.0.\n",
      "\n",
      "Please adapt your code to use either `displot` (a figure-level function with\n",
      "similar flexibility) or `histplot` (an axes-level function for histograms).\n",
      "\n",
      "For a guide to updating your code to use the new functions, please see\n",
      "https://gist.github.com/mwaskom/de44147ed2974457ad6372750bbe5751\n",
      "\n",
      "  sns.distplot(df[\"MPG\"])\n"
     ]
    },
    {
     "data": {
      "image/png": "[encoded data removed]",
      "text/plain": [
       "<Figure size 640x480 with 1 Axes>"
      ]
     },
     "metadata": {},
     "output_type": "display_data"
    }
   ],
   "source": [
    "sns.distplot(df[\"MPG\"])\n",
    "plt.show()"
   ]
  },
  {
   "cell_type": "code",
   "execution_count": 63,
   "id": "df675513",
   "metadata": {
    "scrolled": true
   },
   "outputs": [
    {
     "data": {
      "text/plain": [
       "0.34759392515827137"
      ]
     },
     "execution_count": 63,
     "metadata": {},
     "output_type": "execute_result"
    }
   ],
   "source": [
    "# For P(MPG > 38)\n",
    "1 - stats.norm.cdf(38, mean, sd)"
   ]
  },
  {
   "cell_type": "code",
   "execution_count": 64,
   "id": "81308d0c",
   "metadata": {},
   "outputs": [
    {
     "data": {
      "text/plain": [
       "0.7293498762151609"
      ]
     },
     "execution_count": 64,
     "metadata": {},
     "output_type": "execute_result"
    }
   ],
   "source": [
    "# For P(MPG < 40)\n",
    "stats.norm.cdf(40, mean, sd)"
   ]
  },
  {
   "cell_type": "code",
   "execution_count": 65,
   "id": "e48fdec8",
   "metadata": {
    "scrolled": true
   },
   "outputs": [
    {
     "data": {
      "text/plain": [
       "0.8988689169682047"
      ]
     },
     "execution_count": 65,
     "metadata": {},
     "output_type": "execute_result"
    }
   ],
   "source": [
    "# For P(20 < MPG < 50)\n",
    "stats.norm.cdf(50, mean, sd) - stats.norm.cdf(20, mean, sd)"
   ]
  },
  {
   "cell_type": "markdown",
   "id": "999141e5",
   "metadata": {},
   "source": [
    "## Question 21"
   ]
  },
  {
   "cell_type": "code",
   "execution_count": 66,
   "id": "0def5a2e",
   "metadata": {},
   "outputs": [
    {
     "name": "stderr",
     "output_type": "stream",
     "text": [
      "C:\\Users\\abhic\\AppData\\Local\\Temp\\ipykernel_5244\\864363138.py:2: UserWarning: \n",
      "\n",
      "`distplot` is a deprecated function and will be removed in seaborn v0.14.0.\n",
      "\n",
      "Please adapt your code to use either `displot` (a figure-level function with\n",
      "similar flexibility) or `histplot` (an axes-level function for histograms).\n",
      "\n",
      "For a guide to updating your code to use the new functions, please see\n",
      "https://gist.github.com/mwaskom/de44147ed2974457ad6372750bbe5751\n",
      "\n",
      "  sns.distplot(df[\"MPG\"])\n"
     ]
    },
    {
     "data": {
      "image/png": "[encoded data removed]",
      "text/plain": [
       "<Figure size 640x480 with 1 Axes>"
      ]
     },
     "metadata": {},
     "output_type": "display_data"
    }
   ],
   "source": [
    "# For 1:\n",
    "sns.distplot(df[\"MPG\"])\n",
    "plt.show()"
   ]
  },
  {
   "cell_type": "code",
   "execution_count": 67,
   "id": "fd3baa9f",
   "metadata": {},
   "outputs": [
    {
     "data": {
      "text/plain": [
       "-0.17794674747025727"
      ]
     },
     "execution_count": 67,
     "metadata": {},
     "output_type": "execute_result"
    }
   ],
   "source": [
    "df[\"MPG\"].skew()"
   ]
  },
  {
   "cell_type": "code",
   "execution_count": 68,
   "id": "3d4d75dc",
   "metadata": {},
   "outputs": [],
   "source": [
    "# MPG column is not normally distributed."
   ]
  },
  {
   "cell_type": "code",
   "execution_count": 73,
   "id": "3041edbd",
   "metadata": {},
   "outputs": [
    {
     "data": {
      "text/html": [
       "<div>\n",
       "<style scoped>\n",
       "    .dataframe tbody tr th:only-of-type {\n",
       "        vertical-align: middle;\n",
       "    }\n",
       "\n",
       "    .dataframe tbody tr th {\n",
       "        vertical-align: top;\n",
       "    }\n",
       "\n",
       "    .dataframe thead th {\n",
       "        text-align: right;\n",
       "    }\n",
       "</style>\n",
       "<table border=\"1\" class=\"dataframe\">\n",
       "  <thead>\n",
       "    <tr style=\"text-align: right;\">\n",
       "      <th></th>\n",
       "      <th>Waist</th>\n",
       "      <th>AT</th>\n",
       "    </tr>\n",
       "  </thead>\n",
       "  <tbody>\n",
       "    <tr>\n",
       "      <th>0</th>\n",
       "      <td>74.75</td>\n",
       "      <td>25.72</td>\n",
       "    </tr>\n",
       "    <tr>\n",
       "      <th>1</th>\n",
       "      <td>72.60</td>\n",
       "      <td>25.89</td>\n",
       "    </tr>\n",
       "    <tr>\n",
       "      <th>2</th>\n",
       "      <td>81.80</td>\n",
       "      <td>42.60</td>\n",
       "    </tr>\n",
       "    <tr>\n",
       "      <th>3</th>\n",
       "      <td>83.95</td>\n",
       "      <td>42.80</td>\n",
       "    </tr>\n",
       "    <tr>\n",
       "      <th>4</th>\n",
       "      <td>74.65</td>\n",
       "      <td>29.84</td>\n",
       "    </tr>\n",
       "    <tr>\n",
       "      <th>...</th>\n",
       "      <td>...</td>\n",
       "      <td>...</td>\n",
       "    </tr>\n",
       "    <tr>\n",
       "      <th>104</th>\n",
       "      <td>100.10</td>\n",
       "      <td>124.00</td>\n",
       "    </tr>\n",
       "    <tr>\n",
       "      <th>105</th>\n",
       "      <td>93.30</td>\n",
       "      <td>62.20</td>\n",
       "    </tr>\n",
       "    <tr>\n",
       "      <th>106</th>\n",
       "      <td>101.80</td>\n",
       "      <td>133.00</td>\n",
       "    </tr>\n",
       "    <tr>\n",
       "      <th>107</th>\n",
       "      <td>107.90</td>\n",
       "      <td>208.00</td>\n",
       "    </tr>\n",
       "    <tr>\n",
       "      <th>108</th>\n",
       "      <td>108.50</td>\n",
       "      <td>208.00</td>\n",
       "    </tr>\n",
       "  </tbody>\n",
       "</table>\n",
       "<p>109 rows × 2 columns</p>\n",
       "</div>"
      ],
      "text/plain": [
       "      Waist      AT\n",
       "0     74.75   25.72\n",
       "1     72.60   25.89\n",
       "2     81.80   42.60\n",
       "3     83.95   42.80\n",
       "4     74.65   29.84\n",
       "..      ...     ...\n",
       "104  100.10  124.00\n",
       "105   93.30   62.20\n",
       "106  101.80  133.00\n",
       "107  107.90  208.00\n",
       "108  108.50  208.00\n",
       "\n",
       "[109 rows x 2 columns]"
      ]
     },
     "execution_count": 73,
     "metadata": {},
     "output_type": "execute_result"
    }
   ],
   "source": [
    "# For 2:\n",
    "data = pd.read_csv(r\"E:\\ExcelR\\Data Science\\Assignment\\Stats-1\\wc-at.csv\")\n",
    "data"
   ]
  },
  {
   "cell_type": "code",
   "execution_count": 74,
   "id": "8b0d8d51",
   "metadata": {},
   "outputs": [
    {
     "name": "stderr",
     "output_type": "stream",
     "text": [
      "C:\\Users\\abhic\\AppData\\Local\\Temp\\ipykernel_5244\\3505703785.py:2: UserWarning: \n",
      "\n",
      "`distplot` is a deprecated function and will be removed in seaborn v0.14.0.\n",
      "\n",
      "Please adapt your code to use either `displot` (a figure-level function with\n",
      "similar flexibility) or `histplot` (an axes-level function for histograms).\n",
      "\n",
      "For a guide to updating your code to use the new functions, please see\n",
      "https://gist.github.com/mwaskom/de44147ed2974457ad6372750bbe5751\n",
      "\n",
      "  sns.distplot(data[\"Waist\"])\n",
      "C:\\Users\\abhic\\AppData\\Local\\Temp\\ipykernel_5244\\3505703785.py:5: UserWarning: \n",
      "\n",
      "`distplot` is a deprecated function and will be removed in seaborn v0.14.0.\n",
      "\n",
      "Please adapt your code to use either `displot` (a figure-level function with\n",
      "similar flexibility) or `histplot` (an axes-level function for histograms).\n",
      "\n",
      "For a guide to updating your code to use the new functions, please see\n",
      "https://gist.github.com/mwaskom/de44147ed2974457ad6372750bbe5751\n",
      "\n",
      "  sns.distplot(data[\"AT\"])\n"
     ]
    },
    {
     "data": {
      "image/png": "[encoded data removed]",
      "text/plain": [
       "<Figure size 640x480 with 2 Axes>"
      ]
     },
     "metadata": {},
     "output_type": "display_data"
    }
   ],
   "source": [
    "plt.subplot(1,2,1)\n",
    "sns.distplot(data[\"Waist\"])\n",
    "\n",
    "plt.subplot(1,2,2)\n",
    "sns.distplot(data[\"AT\"])\n",
    "\n",
    "plt.tight_layout()\n",
    "plt.show()"
   ]
  },
  {
   "cell_type": "code",
   "execution_count": 75,
   "id": "80bb670a",
   "metadata": {},
   "outputs": [
    {
     "data": {
      "text/plain": [
       "Waist    0.134056\n",
       "AT       0.584869\n",
       "dtype: float64"
      ]
     },
     "execution_count": 75,
     "metadata": {},
     "output_type": "execute_result"
    }
   ],
   "source": [
    "data.skew()"
   ]
  },
  {
   "cell_type": "code",
   "execution_count": 76,
   "id": "2e6c1737",
   "metadata": {},
   "outputs": [],
   "source": [
    "# Both the columns are not normally distributed. "
   ]
  },
  {
   "cell_type": "markdown",
   "id": "feb0bb97",
   "metadata": {},
   "source": [
    "## Question 22"
   ]
  },
  {
   "cell_type": "code",
   "execution_count": 78,
   "id": "df65feb3",
   "metadata": {},
   "outputs": [
    {
     "name": "stdout",
     "output_type": "stream",
     "text": [
      "1.2815515655446004\n",
      "1.5547735945968535\n",
      "0.2533471031357997\n"
     ]
    }
   ],
   "source": [
    "print(stats.norm.ppf(0.90))\n",
    "print(stats.norm.ppf(0.94))\n",
    "print(stats.norm.ppf(0.60))"
   ]
  },
  {
   "cell_type": "markdown",
   "id": "b00778c1",
   "metadata": {},
   "source": [
    "## Question 23"
   ]
  },
  {
   "cell_type": "code",
   "execution_count": 79,
   "id": "9232ee30",
   "metadata": {
    "scrolled": true
   },
   "outputs": [
    {
     "name": "stdout",
     "output_type": "stream",
     "text": [
      "1.7108820799094275\n",
      "1.8280511719596342\n",
      "2.4921594731575762\n"
     ]
    }
   ],
   "source": [
    "print(stats.t.ppf(0.95,24))\n",
    "print(stats.t.ppf(0.96,24))\n",
    "print(stats.t.ppf(0.99,24))"
   ]
  },
  {
   "cell_type": "markdown",
   "id": "cfec4826",
   "metadata": {},
   "source": [
    "## Question 24"
   ]
  },
  {
   "cell_type": "code",
   "execution_count": 82,
   "id": "1d7a44c6",
   "metadata": {},
   "outputs": [],
   "source": [
    " ##Given Data:\n",
    "n = 18\n",
    "s_mean = 260\n",
    "s_SD = 90\n",
    "p_mean = 270"
   ]
  },
  {
   "cell_type": "code",
   "execution_count": 83,
   "id": "56157a51",
   "metadata": {},
   "outputs": [
    {
     "data": {
      "text/plain": [
       "-0.4714045207910316"
      ]
     },
     "execution_count": 83,
     "metadata": {},
     "output_type": "execute_result"
    }
   ],
   "source": [
    "t = (s_mean-p_mean) / s_SD*(np.sqrt(n))\n",
    "t"
   ]
  },
  {
   "cell_type": "code",
   "execution_count": 84,
   "id": "db93a837",
   "metadata": {},
   "outputs": [
    {
     "data": {
      "text/plain": [
       "0.32167253567098364"
      ]
     },
     "execution_count": 84,
     "metadata": {},
     "output_type": "execute_result"
    }
   ],
   "source": [
    "stats.t.cdf(t,df = 17)"
   ]
  },
  {
   "cell_type": "code",
   "execution_count": null,
   "id": "2c101216",
   "metadata": {},
   "outputs": [],
   "source": []
  }
 ],
 "metadata": {
  "kernelspec": {
   "display_name": "Python 3 (ipykernel)",
   "language": "python",
   "name": "python3"
  },
  "language_info": {
   "codemirror_mode": {
    "name": "ipython",
    "version": 3
   },
   "file_extension": ".py",
   "mimetype": "text/x-python",
   "name": "python",
   "nbconvert_exporter": "python",
   "pygments_lexer": "ipython3",
   "version": "3.11.4"
  }
 },
 "nbformat": 4,
 "nbformat_minor": 5
}
